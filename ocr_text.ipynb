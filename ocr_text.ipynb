{
 "cells": [
  {
   "attachments": {},
   "cell_type": "markdown",
   "metadata": {},
   "source": [
    "## Experimenting with KERES_OCR, PYTESSERACT and EASYOCR Python OCR Libraries"
   ]
  },
  {
   "cell_type": "code",
   "execution_count": null,
   "metadata": {},
   "outputs": [],
   "source": [
    "import os\n",
    "\n",
    "dir = './problematic_samples/cropped/'\n",
    "image_files = [dir + file_name for file_name in os.listdir(dir)]\n",
    "image_files.sort()"
   ]
  },
  {
   "attachments": {},
   "cell_type": "markdown",
   "metadata": {},
   "source": [
    "### Preparing Images with ImageMagick (morph)"
   ]
  },
  {
   "cell_type": "code",
   "execution_count": null,
   "metadata": {},
   "outputs": [],
   "source": [
    "from wand.image import Image\n",
    "\n",
    "def image_morphology(image_filename, dir):\n",
    "    with Image(filename=image_filename) as img:\n",
    "        with img.clone() as img_copy:\n",
    "            # Trying to replicate the following command:\n",
    "            # -type Grayscale\n",
    "            img_copy.type = \"grayscale\"\n",
    "            # -negate\n",
    "            # img_copy.negate()\n",
    "            # -define morphology:compose=darken\n",
    "            img_copy.artifacts[\"morphology:compose\"] = \"Darken\"\n",
    "            # -morphology Thinning 'Rectangle:1x80+0+0<'\n",
    "            img_copy.morphology(method=\"erode\", kernel=\"Diamond:0.5\")\n",
    "            # -negate\n",
    "            # img_copy.negate()\n",
    "            display(img_copy)\n",
    "            image_filename = image_filename.split(\"/\")[-1]\n",
    "            print(image_filename)\n",
    "            # smmoothen_filename = f\"{image_filename[:-4]}_smooth{image_filename[-4:]}\"\n",
    "            smmoothen_filename = f\"{image_filename[:-4]}_smooth.tif\"\n",
    "            # print(smmoothen_filename)\n",
    "            img_copy.save(filename=dir + smmoothen_filename)\n",
    "\n",
    "dir_smooth = \"problematic_samples/tif-samples-smoothened/\"\n",
    "for image_file in image_files:\n",
    "    image_morphology(image_file, dir_smooth)\n",
    "\n",
    "smoothened_image_files = [dir_smooth + file_name for file_name in os.listdir(\"./\" + dir_smooth)]\n",
    "smoothened_image_files\n",
    " "
   ]
  },
  {
   "attachments": {},
   "cell_type": "markdown",
   "metadata": {},
   "source": [
    "### KERAS_OCR"
   ]
  },
  {
   "cell_type": "code",
   "execution_count": null,
   "metadata": {},
   "outputs": [],
   "source": [
    "import matplotlib.pyplot as plt\n",
    "import keras_ocr\n",
    "\n",
    "pipeline = keras_ocr.pipeline.Pipeline()\n",
    "\n",
    "images = [keras_ocr.tools.read(url) for url in smoothened_image_files]\n",
    "\n",
    "\n",
    "# Each list of predictions in prediction_groups is a list of\n",
    "# (word, box) tuples.\n",
    "prediction_groups = pipeline.recognize(\n",
    "    images,\n",
    "    detection_kwargs={\"detection_threshold\": 0.95, \"text_threshold\": 0.5},\n",
    ")\n",
    "\n",
    "# Plot the predictions\n",
    "fig, axs = plt.subplots(nrows=len(images), figsize=(20, 10 * len(images)))\n",
    "for ax, image, predictions in zip(axs, images, prediction_groups):\n",
    "    keras_ocr.tools.drawAnnotations(image=image, predictions=predictions, ax=ax)"
   ]
  },
  {
   "attachments": {},
   "cell_type": "markdown",
   "metadata": {},
   "source": [
    "### PYTESSERACT"
   ]
  },
  {
   "cell_type": "code",
   "execution_count": null,
   "metadata": {},
   "outputs": [],
   "source": [
    "from PIL import Image as PIL_IMAGE\n",
    "import pytesseract\n",
    "# import subprocess\n",
    "\n",
    "pytesseract.pytesseract.tesseract_cmd = '/usr/local/bin/tesseract'\n",
    "\n",
    "\n",
    "output = []\n",
    "for f in smoothened_image_files:\n",
    "    # f = 'problematic_samples/tif_samples_1/C001157780-00-bottom.tif'\n",
    "    # f2 = f'{f[:-4]}-ha{f[-4:]}'\n",
    "    # subprocess.run(['convert', f,'-morphology', 'Dilate', 'Disk:1.0', '-compress', 'group4', f2], check=True)\n",
    "    # subprocess.run(['convert', f, '+repage', '-crop', '10x10 +10 +10', '-compress', 'group4', f2], check=True)\n",
    "    text = pytesseract.image_to_string(PIL_IMAGE.open(f))\n",
    "    file_name = f.split('/')[-1]\n",
    "    output.append(f'{file_name}:\\n\\n{text}\\n')\n",
    "\n",
    "with open('output.txt', 'w') as f: \n",
    "    f.write(f'\\n**************************************************************************\\n'.join(output))"
   ]
  },
  {
   "attachments": {},
   "cell_type": "markdown",
   "metadata": {},
   "source": [
    "### EASYOCR"
   ]
  },
  {
   "cell_type": "code",
   "execution_count": null,
   "metadata": {},
   "outputs": [],
   "source": [
    "# HAS CONFLICT WITH WAND IMAGE (Restart the kernel if Wand Image is already imported) and HAD SUCCESS ONLY WITH JPEGs.\n",
    "\n",
    "import easyocr\n",
    "reader = easyocr.Reader(['en']) # this needs to run only once to load the model into memory\n"
   ]
  },
  {
   "cell_type": "code",
   "execution_count": null,
   "metadata": {},
   "outputs": [],
   "source": [
    "# output = []\n",
    "# for f in smoothened_image_files:\n",
    "#     text = reader.readtext(f'./{f}')\n",
    "#     file_name = f.split('/')[-1]\n",
    "#     output.append(f'{file_name}:\\n\\n{text}\\n')\n",
    "\n",
    "# with open('output.txt', 'w') as f: \n",
    "#     f.write(f'\\n**************************************************************************\\n'.join(output))\n",
    "\n",
    "result = reader.readtext('./problematic_samples/C001604823-00-bottom_smooth_cropped.jpg')\n",
    "result"
   ]
  }
 ],
 "metadata": {
  "kernelspec": {
   "display_name": "base",
   "language": "python",
   "name": "python3"
  },
  "language_info": {
   "codemirror_mode": {
    "name": "ipython",
    "version": 3
   },
   "file_extension": ".py",
   "mimetype": "text/x-python",
   "name": "python",
   "nbconvert_exporter": "python",
   "pygments_lexer": "ipython3",
   "version": "3.10.10"
  },
  "orig_nbformat": 4
 },
 "nbformat": 4,
 "nbformat_minor": 2
}
