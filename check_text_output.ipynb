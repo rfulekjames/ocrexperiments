{
 "cells": [
  {
   "cell_type": "code",
   "execution_count": null,
   "metadata": {},
   "outputs": [],
   "source": [
    "import pandas as pd\n",
    "\n",
    "test_file = 'problematic_samples/070723-zip/images-output/07072023-2/delivery/CUR6470-01_2438_05022023_0001126908/text_formatted.txt'\n",
    "\n",
    "\n",
    "formatted_output = pd.read_csv(test_file, sep='|')\n",
    "formatted_output.head()\n",
    "\n"
   ]
  },
  {
   "cell_type": "code",
   "execution_count": null,
   "metadata": {},
   "outputs": [],
   "source": [
    "import re\n",
    "\n",
    "# We take the regular expressions from the lambda function extracting the text\n",
    "approval_re = r\"[(A-Z0-9_]+[_ ].*?(?:MATERIALS?|MODIFIED|MODIFIED_2023|ACCEPTED|SPN|)\\d{7,8}|[A-Z0-9]+_[0-9A-Z]+_[A-Z0-9]+_[A-Z]+\"\n",
    "twenty_re = (\n",
    "    r\"[A-Z][A-Z][OSC0-9][A-Z][A-Z][A-Z][A-Z0-9][A-Z0-9][A-Z0-9]+[ _.][A-Z\\d]{3,4}$\"\n",
    ")\n",
    "field_regular_expressions = {\n",
    "    \"ZIP_CODE_4\": \"^[0-9]{5}(?:-[0-9]{4})?$\",\n",
    "    \"STATE\": r\"^[A-Z]{2}$\",\n",
    "    \"REGULATORY_APPROVAL_ID\": rf\"^({approval_re}) ({twenty_re})$\",\n",
    "}\n",
    "\n",
    "# We compile all the regular expression in the above dictionary\n",
    "# overwriting the values\n",
    "for column in field_regular_expressions:\n",
    "    field_regular_expressions[column] = re.compile(\n",
    "        field_regular_expressions[column]\n",
    "    )"
   ]
  },
  {
   "cell_type": "code",
   "execution_count": null,
   "metadata": {},
   "outputs": [],
   "source": [
    "from functools import reduce\n",
    "\n",
    "# Add f\"{column}_check\" columns to the formatted_output dataframe indicating if \n",
    "# a regular expression is violated by the column in a particular row\n",
    "for column in field_regular_expressions:\n",
    "    formatted_output[f\"{column}_check\"] = formatted_output[column].apply(\n",
    "        lambda val: True if field_regular_expressions[column].findall(val) else False\n",
    "    )"
   ]
  },
  {
   "cell_type": "code",
   "execution_count": null,
   "metadata": {},
   "outputs": [],
   "source": [
    "\n",
    "\n",
    "# Filter only those row that have at least one violation of a regular expression in\n",
    "# a column.\n",
    "filtered_formatted_output = formatted_output[\n",
    "    reduce(\n",
    "        lambda acc, key: acc | (formatted_output[f'{key}_check'] == False),\n",
    "        field_regular_expressions.keys(),\n",
    "        False,\n",
    "    )\n",
    "]\n",
    "\n",
    "\n",
    "# Delete all the values in columns we are checking that weren't violating a regular expression in the \n",
    "# resulting filtered dataframe.\n",
    "for column in field_regular_expressions:\n",
    "    filtered_formatted_output[f\"{column}\"] = filtered_formatted_output[[f\"{column}_check\", column]].apply(lambda row:\n",
    "        row[column] if not row[f\"{column}_check\"] else None,\n",
    "        axis = 1,                                                        \n",
    "    )\n",
    "  \n",
    "\n",
    "filtered_formatted_output.head()"
   ]
  },
  {
   "cell_type": "code",
   "execution_count": 4,
   "metadata": {},
   "outputs": [],
   "source": [
    "import pandas as pd\n",
    "import re\n",
    "from functools import reduce\n",
    "\n",
    "def get_text_formatted_errors(txt_file_in, txt_file_out):\n",
    "    formatted_output = pd.read_csv(txt_file_in, sep='|')\n",
    "    \n",
    "    # We take the regular expressions from the lambda function extracting the text\n",
    "    approval_re = r\"[(A-Z0-9_]+[_ ].*?(?:MATERIALS?|MODIFIED|MODIFIED_2023|ACCEPTED|SPN|)\\d{7,8}|[A-Z0-9]+_[0-9A-Z]+_[A-Z0-9]+_[A-Z]+\"\n",
    "    twenty_re = (\n",
    "        r\"[A-Z][A-Z][OSC0-9][A-Z][A-Z][A-Z][A-Z0-9][A-Z0-9][A-Z0-9]+[ _.][A-Z\\d]{3,4}$\"\n",
    "    )\n",
    "    field_regular_expressions = {\n",
    "        \"ZIP_CODE_4\": \"^[0-9]{5}(?:-[0-9]{4})?$\",\n",
    "        \"STATE\": r\"^[A-Z]{2}$\",\n",
    "        \"REGULATORY_APPROVAL_ID\": rf\"^({approval_re}) ({twenty_re})$\",\n",
    "    }\n",
    "\n",
    "    # We compile all the regular expression in the above dictionary\n",
    "    # overwriting the values\n",
    "    for column in field_regular_expressions:\n",
    "        field_regular_expressions[column] = re.compile(\n",
    "            field_regular_expressions[column]\n",
    "    )\n",
    "        \n",
    "    # Add f\"{column}_check\" columns to the formatted_output dataframe indicating if \n",
    "    # a regular expression is violated by the column in a particular row\n",
    "    for column in field_regular_expressions:\n",
    "        formatted_output[f\"{column}_check\"] = formatted_output[column].apply(\n",
    "            lambda val: True if field_regular_expressions[column].findall(val) else False\n",
    "        )\n",
    "\n",
    "    # Filter only those row that have at least one violation of a regular expression in\n",
    "    # a column.\n",
    "    filtered_formatted_output = formatted_output[\n",
    "        reduce(\n",
    "            lambda acc, key: acc | (formatted_output[f'{key}_check'] == False),\n",
    "            field_regular_expressions.keys(),\n",
    "            False,\n",
    "        )\n",
    "    ]\n",
    "\n",
    "    # Delete all the values in columns we are checking that weren't violating a regular expression in the \n",
    "    # resulting filtered dataframe.\n",
    "    for column in field_regular_expressions:\n",
    "        filtered_formatted_output[f\"{column}\"] = filtered_formatted_output[[f\"{column}_check\", column]].apply(lambda row:\n",
    "            row[column] if not row[f\"{column}_check\"] else None,\n",
    "            axis = 1,                                                        \n",
    "        )\n",
    "  \n",
    "    filtered_formatted_output = filtered_formatted_output[list(filtered_formatted_output.keys())]\n",
    "\n",
    "\n",
    "    # We only save if there is a record\n",
    "    if filtered_formatted_output.shape[0] > 0:\n",
    "        print(f'Saving: {txt_file_out}')\n",
    "        filtered_formatted_output.to_csv(txt_file_out, sep='|')\n",
    "    "
   ]
  },
  {
   "cell_type": "code",
   "execution_count": 5,
   "metadata": {},
   "outputs": [
    {
     "ename": "TypeError",
     "evalue": "expected string or bytes-like object",
     "output_type": "error",
     "traceback": [
      "\u001b[0;31m---------------------------------------------------------------------------\u001b[0m",
      "\u001b[0;31mTypeError\u001b[0m                                 Traceback (most recent call last)",
      "Cell \u001b[0;32mIn[5], line 9\u001b[0m\n\u001b[1;32m      6\u001b[0m paths\n\u001b[1;32m      8\u001b[0m \u001b[39mfor\u001b[39;00m path_in, path_out \u001b[39min\u001b[39;00m paths:\n\u001b[0;32m----> 9\u001b[0m     get_text_formatted_errors(path_in, path_out)\n",
      "Cell \u001b[0;32mIn[4], line 29\u001b[0m, in \u001b[0;36mget_text_formatted_errors\u001b[0;34m(txt_file_in, txt_file_out)\u001b[0m\n\u001b[1;32m     26\u001b[0m \u001b[39m# Add f\"{column}_check\" columns to the formatted_output dataframe indicating if \u001b[39;00m\n\u001b[1;32m     27\u001b[0m \u001b[39m# a regular expression is violated by the column in a particular row\u001b[39;00m\n\u001b[1;32m     28\u001b[0m \u001b[39mfor\u001b[39;00m column \u001b[39min\u001b[39;00m field_regular_expressions:\n\u001b[0;32m---> 29\u001b[0m     formatted_output[\u001b[39mf\u001b[39m\u001b[39m\"\u001b[39m\u001b[39m{\u001b[39;00mcolumn\u001b[39m}\u001b[39;00m\u001b[39m_check\u001b[39m\u001b[39m\"\u001b[39m] \u001b[39m=\u001b[39m formatted_output[column]\u001b[39m.\u001b[39;49mapply(\n\u001b[1;32m     30\u001b[0m         \u001b[39mlambda\u001b[39;49;00m val: \u001b[39mTrue\u001b[39;49;00m \u001b[39mif\u001b[39;49;00m field_regular_expressions[column]\u001b[39m.\u001b[39;49mfindall(val) \u001b[39melse\u001b[39;49;00m \u001b[39mFalse\u001b[39;49;00m\n\u001b[1;32m     31\u001b[0m     )\n\u001b[1;32m     33\u001b[0m \u001b[39m# Filter only those row that have at least one violation of a regular expression in\u001b[39;00m\n\u001b[1;32m     34\u001b[0m \u001b[39m# a column.\u001b[39;00m\n\u001b[1;32m     35\u001b[0m filtered_formatted_output \u001b[39m=\u001b[39m formatted_output[\n\u001b[1;32m     36\u001b[0m     reduce(\n\u001b[1;32m     37\u001b[0m         \u001b[39mlambda\u001b[39;00m acc, key: acc \u001b[39m|\u001b[39m (formatted_output[\u001b[39mf\u001b[39m\u001b[39m'\u001b[39m\u001b[39m{\u001b[39;00mkey\u001b[39m}\u001b[39;00m\u001b[39m_check\u001b[39m\u001b[39m'\u001b[39m] \u001b[39m==\u001b[39m \u001b[39mFalse\u001b[39;00m),\n\u001b[0;32m   (...)\u001b[0m\n\u001b[1;32m     40\u001b[0m     )\n\u001b[1;32m     41\u001b[0m ]\n",
      "File \u001b[0;32m~/miniconda3/lib/python3.10/site-packages/pandas/core/series.py:4626\u001b[0m, in \u001b[0;36mSeries.apply\u001b[0;34m(self, func, convert_dtype, args, **kwargs)\u001b[0m\n\u001b[1;32m   4516\u001b[0m \u001b[39mdef\u001b[39;00m \u001b[39mapply\u001b[39m(\n\u001b[1;32m   4517\u001b[0m     \u001b[39mself\u001b[39m,\n\u001b[1;32m   4518\u001b[0m     func: AggFuncType,\n\u001b[0;32m   (...)\u001b[0m\n\u001b[1;32m   4521\u001b[0m     \u001b[39m*\u001b[39m\u001b[39m*\u001b[39mkwargs,\n\u001b[1;32m   4522\u001b[0m ) \u001b[39m-\u001b[39m\u001b[39m>\u001b[39m DataFrame \u001b[39m|\u001b[39m Series:\n\u001b[1;32m   4523\u001b[0m \u001b[39m    \u001b[39m\u001b[39m\"\"\"\u001b[39;00m\n\u001b[1;32m   4524\u001b[0m \u001b[39m    Invoke function on values of Series.\u001b[39;00m\n\u001b[1;32m   4525\u001b[0m \n\u001b[0;32m   (...)\u001b[0m\n\u001b[1;32m   4624\u001b[0m \u001b[39m    dtype: float64\u001b[39;00m\n\u001b[1;32m   4625\u001b[0m \u001b[39m    \"\"\"\u001b[39;00m\n\u001b[0;32m-> 4626\u001b[0m     \u001b[39mreturn\u001b[39;00m SeriesApply(\u001b[39mself\u001b[39;49m, func, convert_dtype, args, kwargs)\u001b[39m.\u001b[39;49mapply()\n",
      "File \u001b[0;32m~/miniconda3/lib/python3.10/site-packages/pandas/core/apply.py:1025\u001b[0m, in \u001b[0;36mSeriesApply.apply\u001b[0;34m(self)\u001b[0m\n\u001b[1;32m   1022\u001b[0m     \u001b[39mreturn\u001b[39;00m \u001b[39mself\u001b[39m\u001b[39m.\u001b[39mapply_str()\n\u001b[1;32m   1024\u001b[0m \u001b[39m# self.f is Callable\u001b[39;00m\n\u001b[0;32m-> 1025\u001b[0m \u001b[39mreturn\u001b[39;00m \u001b[39mself\u001b[39;49m\u001b[39m.\u001b[39;49mapply_standard()\n",
      "File \u001b[0;32m~/miniconda3/lib/python3.10/site-packages/pandas/core/apply.py:1076\u001b[0m, in \u001b[0;36mSeriesApply.apply_standard\u001b[0;34m(self)\u001b[0m\n\u001b[1;32m   1074\u001b[0m     \u001b[39melse\u001b[39;00m:\n\u001b[1;32m   1075\u001b[0m         values \u001b[39m=\u001b[39m obj\u001b[39m.\u001b[39mastype(\u001b[39mobject\u001b[39m)\u001b[39m.\u001b[39m_values\n\u001b[0;32m-> 1076\u001b[0m         mapped \u001b[39m=\u001b[39m lib\u001b[39m.\u001b[39;49mmap_infer(\n\u001b[1;32m   1077\u001b[0m             values,\n\u001b[1;32m   1078\u001b[0m             f,\n\u001b[1;32m   1079\u001b[0m             convert\u001b[39m=\u001b[39;49m\u001b[39mself\u001b[39;49m\u001b[39m.\u001b[39;49mconvert_dtype,\n\u001b[1;32m   1080\u001b[0m         )\n\u001b[1;32m   1082\u001b[0m \u001b[39mif\u001b[39;00m \u001b[39mlen\u001b[39m(mapped) \u001b[39mand\u001b[39;00m \u001b[39misinstance\u001b[39m(mapped[\u001b[39m0\u001b[39m], ABCSeries):\n\u001b[1;32m   1083\u001b[0m     \u001b[39m# GH#43986 Need to do list(mapped) in order to get treated as nested\u001b[39;00m\n\u001b[1;32m   1084\u001b[0m     \u001b[39m#  See also GH#25959 regarding EA support\u001b[39;00m\n\u001b[1;32m   1085\u001b[0m     \u001b[39mreturn\u001b[39;00m obj\u001b[39m.\u001b[39m_constructor_expanddim(\u001b[39mlist\u001b[39m(mapped), index\u001b[39m=\u001b[39mobj\u001b[39m.\u001b[39mindex)\n",
      "File \u001b[0;32m~/miniconda3/lib/python3.10/site-packages/pandas/_libs/lib.pyx:2834\u001b[0m, in \u001b[0;36mpandas._libs.lib.map_infer\u001b[0;34m()\u001b[0m\n",
      "Cell \u001b[0;32mIn[4], line 30\u001b[0m, in \u001b[0;36mget_text_formatted_errors.<locals>.<lambda>\u001b[0;34m(val)\u001b[0m\n\u001b[1;32m     26\u001b[0m \u001b[39m# Add f\"{column}_check\" columns to the formatted_output dataframe indicating if \u001b[39;00m\n\u001b[1;32m     27\u001b[0m \u001b[39m# a regular expression is violated by the column in a particular row\u001b[39;00m\n\u001b[1;32m     28\u001b[0m \u001b[39mfor\u001b[39;00m column \u001b[39min\u001b[39;00m field_regular_expressions:\n\u001b[1;32m     29\u001b[0m     formatted_output[\u001b[39mf\u001b[39m\u001b[39m\"\u001b[39m\u001b[39m{\u001b[39;00mcolumn\u001b[39m}\u001b[39;00m\u001b[39m_check\u001b[39m\u001b[39m\"\u001b[39m] \u001b[39m=\u001b[39m formatted_output[column]\u001b[39m.\u001b[39mapply(\n\u001b[0;32m---> 30\u001b[0m         \u001b[39mlambda\u001b[39;00m val: \u001b[39mTrue\u001b[39;00m \u001b[39mif\u001b[39;00m field_regular_expressions[column]\u001b[39m.\u001b[39;49mfindall(val) \u001b[39melse\u001b[39;00m \u001b[39mFalse\u001b[39;00m\n\u001b[1;32m     31\u001b[0m     )\n\u001b[1;32m     33\u001b[0m \u001b[39m# Filter only those row that have at least one violation of a regular expression in\u001b[39;00m\n\u001b[1;32m     34\u001b[0m \u001b[39m# a column.\u001b[39;00m\n\u001b[1;32m     35\u001b[0m filtered_formatted_output \u001b[39m=\u001b[39m formatted_output[\n\u001b[1;32m     36\u001b[0m     reduce(\n\u001b[1;32m     37\u001b[0m         \u001b[39mlambda\u001b[39;00m acc, key: acc \u001b[39m|\u001b[39m (formatted_output[\u001b[39mf\u001b[39m\u001b[39m'\u001b[39m\u001b[39m{\u001b[39;00mkey\u001b[39m}\u001b[39;00m\u001b[39m_check\u001b[39m\u001b[39m'\u001b[39m] \u001b[39m==\u001b[39m \u001b[39mFalse\u001b[39;00m),\n\u001b[0;32m   (...)\u001b[0m\n\u001b[1;32m     40\u001b[0m     )\n\u001b[1;32m     41\u001b[0m ]\n",
      "\u001b[0;31mTypeError\u001b[0m: expected string or bytes-like object"
     ]
    }
   ],
   "source": [
    "from pathlib import Path\n",
    "\n",
    "paths = []\n",
    "for path in Path('problematic_samples/070723-zip/images-output').rglob('*.txt'):\n",
    "    paths.append((str(path), f'{str(path)[:-4]}_err.txt'))\n",
    "paths\n",
    "\n",
    "for path_in, path_out in paths:\n",
    "    get_text_formatted_errors(path_in, path_out)"
   ]
  }
 ],
 "metadata": {
  "kernelspec": {
   "display_name": "base",
   "language": "python",
   "name": "python3"
  },
  "language_info": {
   "codemirror_mode": {
    "name": "ipython",
    "version": 3
   },
   "file_extension": ".py",
   "mimetype": "text/x-python",
   "name": "python",
   "nbconvert_exporter": "python",
   "pygments_lexer": "ipython3",
   "version": "3.10.10"
  },
  "orig_nbformat": 4
 },
 "nbformat": 4,
 "nbformat_minor": 2
}
